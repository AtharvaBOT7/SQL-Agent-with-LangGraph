{
 "cells": [
  {
   "cell_type": "code",
   "execution_count": 1,
   "id": "46d60a91",
   "metadata": {},
   "outputs": [],
   "source": [
    "import sqlite3"
   ]
  },
  {
   "cell_type": "code",
   "execution_count": 2,
   "id": "acd88ca3",
   "metadata": {},
   "outputs": [],
   "source": [
    "connection = sqlite3.connect('employee.db')"
   ]
  },
  {
   "cell_type": "code",
   "execution_count": 3,
   "id": "d04f82b7",
   "metadata": {},
   "outputs": [
    {
     "data": {
      "text/plain": [
       "<sqlite3.Connection at 0x107b48040>"
      ]
     },
     "execution_count": 3,
     "metadata": {},
     "output_type": "execute_result"
    }
   ],
   "source": [
    "connection"
   ]
  },
  {
   "cell_type": "code",
   "execution_count": 4,
   "id": "47edd9ce",
   "metadata": {},
   "outputs": [],
   "source": [
    "table_creation_query = ''' \n",
    "CREATE TABLE IF NOT EXISTS employees (\n",
    "    emp_id INTEGER PRIMARY KEY,\n",
    "    first_name TEXT NOT NULL,\n",
    "    last_name TEXT NOT NULL,\n",
    "    email TEXT UNIQUE NOT NULL,\n",
    "    hire_date TEXT NOT NULL,\n",
    "    salary REAL NOT NULL\n",
    ");\n",
    "'''"
   ]
  },
  {
   "cell_type": "code",
   "execution_count": 5,
   "id": "8fb6fb7c",
   "metadata": {},
   "outputs": [],
   "source": [
    "table_creation_query2 = ''' \n",
    "CREATE TABLE IF NOT EXISTS customers (\n",
    "        customer_id INTEGER PRIMARY KEY AUTOINCREMENT,\n",
    "        first_name TEXT NOT NULL,\n",
    "        last_name TEXT NOT NULL,\n",
    "        email TEXT UNIQUE NOT NULL,\n",
    "        phone TEXT\n",
    "    );\n",
    "'''"
   ]
  },
  {
   "cell_type": "code",
   "execution_count": 6,
   "id": "29471939",
   "metadata": {},
   "outputs": [],
   "source": [
    "table_creation_query3 = ''' \n",
    "    CREATE TABLE IF NOT EXISTS orders (\n",
    "        order_id INTEGER PRIMARY KEY AUTOINCREMENT,\n",
    "        customer_id INTEGER,\n",
    "        order_date TEXT NOT NULL,\n",
    "        amount REAL NOT NULL,\n",
    "        FOREIGN KEY (customer_id) REFERENCES customers(customer_id)\n",
    "    );\n",
    "'''"
   ]
  },
  {
   "cell_type": "code",
   "execution_count": 7,
   "id": "5c0b61a0",
   "metadata": {},
   "outputs": [],
   "source": [
    "cursor = connection.cursor()"
   ]
  },
  {
   "cell_type": "code",
   "execution_count": 8,
   "id": "eda10cbf",
   "metadata": {},
   "outputs": [
    {
     "data": {
      "text/plain": [
       "<sqlite3.Cursor at 0x107b8c9c0>"
      ]
     },
     "execution_count": 8,
     "metadata": {},
     "output_type": "execute_result"
    }
   ],
   "source": [
    "cursor.execute(table_creation_query)"
   ]
  },
  {
   "cell_type": "code",
   "execution_count": 9,
   "id": "9561fb12",
   "metadata": {},
   "outputs": [
    {
     "data": {
      "text/plain": [
       "<sqlite3.Cursor at 0x107b8c9c0>"
      ]
     },
     "execution_count": 9,
     "metadata": {},
     "output_type": "execute_result"
    }
   ],
   "source": [
    "cursor.execute(table_creation_query2)"
   ]
  },
  {
   "cell_type": "code",
   "execution_count": 10,
   "id": "33183b22",
   "metadata": {},
   "outputs": [
    {
     "data": {
      "text/plain": [
       "<sqlite3.Cursor at 0x107b8c9c0>"
      ]
     },
     "execution_count": 10,
     "metadata": {},
     "output_type": "execute_result"
    }
   ],
   "source": [
    "cursor.execute(table_creation_query3)"
   ]
  },
  {
   "cell_type": "code",
   "execution_count": 11,
   "id": "eaaea5dc",
   "metadata": {},
   "outputs": [],
   "source": [
    "insert_query = \"\"\"\n",
    "INSERT INTO employees (emp_id, first_name, last_name, email, hire_date, salary)\n",
    "VALUES (?, ?, ?, ?, ?, ?);\n",
    "\"\"\""
   ]
  },
  {
   "cell_type": "code",
   "execution_count": 12,
   "id": "78c561ee",
   "metadata": {},
   "outputs": [],
   "source": [
    "insert_query_customers = \"\"\"\n",
    "INSERT INTO customers (customer_id, first_name, last_name, email, phone)\n",
    "VALUES (?, ?, ?, ?, ?);\n",
    "\"\"\""
   ]
  },
  {
   "cell_type": "code",
   "execution_count": 13,
   "id": "5116e797",
   "metadata": {},
   "outputs": [],
   "source": [
    "insert_query_orders = \"\"\"\n",
    "INSERT INTO orders (order_id, customer_id, order_date, amount)\n",
    "VALUES (?, ?, ?, ?);\n",
    "\"\"\""
   ]
  },
  {
   "cell_type": "code",
   "execution_count": 14,
   "id": "44336157",
   "metadata": {},
   "outputs": [],
   "source": [
    "employee_data = [\n",
    "    (1, \"Hello\", \"World\", \"world.v@abc.com\", \"2023-06-01\", 50000.00),\n",
    "    (2, \"Arhun\", \"Meheta\", \"arhun.m@gmail.com\", \"2022-04-15\", 60000.00),\n",
    "    (3, \"Alice\", \"Johnson\", \"alice.johnson@jpg.com\", \"2021-09-30\", 55000.00),\n",
    "    (4, \"Bob\", \"Brown\", \"bob.brown@uio.com\", \"2020-01-20\", 45000.00),\n",
    "    ]"
   ]
  },
  {
   "cell_type": "code",
   "execution_count": 15,
   "id": "e80e9f96",
   "metadata": {},
   "outputs": [],
   "source": [
    "customers_data = [\n",
    "    (1, \"John\", \"Doe\", \"john.doe@example.com\", \"1234567890\"),\n",
    "    (2, \"Jane\", \"Smith\", \"jane.smith@example.com\", \"9876543210\"),\n",
    "    (3, \"Emily\", \"Davis\", \"emily.davis@example.com\", \"4567891230\"),\n",
    "    (4, \"Michael\", \"Brown\", \"michael.brown@example.com\", \"7894561230\"),\n",
    "]"
   ]
  },
  {
   "cell_type": "code",
   "execution_count": 16,
   "id": "7ce8a38f",
   "metadata": {},
   "outputs": [],
   "source": [
    "orders_data = [\n",
    "    (1, 1, \"2023-12-01\", 250.75),\n",
    "    (2, 2, \"2023-11-20\", 150.50),\n",
    "    (3, 3, \"2023-11-25\", 300.00),\n",
    "    (4, 4, \"2023-12-02\", 450.00),\n",
    "]"
   ]
  },
  {
   "cell_type": "code",
   "execution_count": 17,
   "id": "55d77d65",
   "metadata": {},
   "outputs": [
    {
     "data": {
      "text/plain": [
       "<sqlite3.Cursor at 0x107b8c9c0>"
      ]
     },
     "execution_count": 17,
     "metadata": {},
     "output_type": "execute_result"
    }
   ],
   "source": [
    "cursor.executemany(insert_query, employee_data)"
   ]
  },
  {
   "cell_type": "code",
   "execution_count": 18,
   "id": "787778ac",
   "metadata": {},
   "outputs": [
    {
     "data": {
      "text/plain": [
       "<sqlite3.Cursor at 0x107b8c9c0>"
      ]
     },
     "execution_count": 18,
     "metadata": {},
     "output_type": "execute_result"
    }
   ],
   "source": [
    "cursor.executemany(insert_query_customers, customers_data)"
   ]
  },
  {
   "cell_type": "code",
   "execution_count": 19,
   "id": "ee30e73d",
   "metadata": {},
   "outputs": [
    {
     "data": {
      "text/plain": [
       "<sqlite3.Cursor at 0x107b8c9c0>"
      ]
     },
     "execution_count": 19,
     "metadata": {},
     "output_type": "execute_result"
    }
   ],
   "source": [
    "cursor.executemany(insert_query_orders, orders_data)"
   ]
  },
  {
   "cell_type": "code",
   "execution_count": 20,
   "id": "e9cd81da",
   "metadata": {},
   "outputs": [],
   "source": [
    "connection.commit()"
   ]
  },
  {
   "cell_type": "code",
   "execution_count": 21,
   "id": "f4a9e544",
   "metadata": {},
   "outputs": [
    {
     "data": {
      "text/plain": [
       "<sqlite3.Cursor at 0x107b8c9c0>"
      ]
     },
     "execution_count": 21,
     "metadata": {},
     "output_type": "execute_result"
    }
   ],
   "source": [
    "cursor.execute(\"SELECT * FROM employees;\")"
   ]
  },
  {
   "cell_type": "code",
   "execution_count": 22,
   "id": "b065077f",
   "metadata": {},
   "outputs": [
    {
     "name": "stdout",
     "output_type": "stream",
     "text": [
      "(1, 'Hello', 'World', 'world.v@abc.com', '2023-06-01', 50000.0)\n",
      "(2, 'Arhun', 'Meheta', 'arhun.m@gmail.com', '2022-04-15', 60000.0)\n",
      "(3, 'Alice', 'Johnson', 'alice.johnson@jpg.com', '2021-09-30', 55000.0)\n",
      "(4, 'Bob', 'Brown', 'bob.brown@uio.com', '2020-01-20', 45000.0)\n"
     ]
    }
   ],
   "source": [
    "for row in cursor.fetchall():\n",
    "    print(row) "
   ]
  },
  {
   "cell_type": "code",
   "execution_count": 25,
   "id": "ec8f8c0c",
   "metadata": {},
   "outputs": [
    {
     "data": {
      "text/plain": [
       "True"
      ]
     },
     "execution_count": 25,
     "metadata": {},
     "output_type": "execute_result"
    }
   ],
   "source": [
    "import os \n",
    "from dotenv import load_dotenv\n",
    "load_dotenv()"
   ]
  },
  {
   "cell_type": "code",
   "execution_count": 26,
   "id": "4e5438a5",
   "metadata": {},
   "outputs": [],
   "source": [
    "GROQ_API_KEY = os.getenv(\"GROQ_API_KEY\")\n",
    "os.environ[\"GROQ_API_KEY\"] = GROQ_API_KEY"
   ]
  },
  {
   "cell_type": "code",
   "execution_count": 27,
   "id": "5845259e",
   "metadata": {},
   "outputs": [],
   "source": [
    "from langchain_groq import ChatGroq\n",
    "\n",
    "llm = ChatGroq(model_name = \"llama-3.3-70b-versatile\")"
   ]
  },
  {
   "cell_type": "code",
   "execution_count": 28,
   "id": "ef2dcc39",
   "metadata": {},
   "outputs": [
    {
     "data": {
      "text/plain": [
       "\"What's up? How can I help you today?\""
      ]
     },
     "execution_count": 28,
     "metadata": {},
     "output_type": "execute_result"
    }
   ],
   "source": [
    "llm.invoke(\"Hi bro\").content"
   ]
  },
  {
   "cell_type": "markdown",
   "id": "1e7bf5a3",
   "metadata": {},
   "source": [
    "Just like we implemented the SQL queries using the cursor.execute() method manually, we get a method called SQLDatabase in LangChain"
   ]
  },
  {
   "cell_type": "code",
   "execution_count": 29,
   "id": "3918214b",
   "metadata": {},
   "outputs": [],
   "source": [
    "from langchain_community.utilities import SQLDatabase\n",
    "db = SQLDatabase.from_uri(\"sqlite:///employee.db\")"
   ]
  },
  {
   "cell_type": "code",
   "execution_count": 30,
   "id": "cdb89c81",
   "metadata": {},
   "outputs": [
    {
     "name": "stdout",
     "output_type": "stream",
     "text": [
      "Dialect:  sqlite\n",
      "Useable Tables:  ['customers', 'employees', 'orders']\n"
     ]
    }
   ],
   "source": [
    "print(\"Dialect: \", db.dialect)\n",
    "print(\"Useable Tables: \", db.get_usable_table_names())"
   ]
  },
  {
   "cell_type": "code",
   "execution_count": 31,
   "id": "3361e221",
   "metadata": {},
   "outputs": [],
   "source": [
    "query_result = db.run(\"SELECT * FROM employees;\")"
   ]
  },
  {
   "cell_type": "code",
   "execution_count": 32,
   "id": "e458a65b",
   "metadata": {},
   "outputs": [
    {
     "name": "stdout",
     "output_type": "stream",
     "text": [
      "Query Result:  [(1, 'Hello', 'World', 'world.v@abc.com', '2023-06-01', 50000.0), (2, 'Arhun', 'Meheta', 'arhun.m@gmail.com', '2022-04-15', 60000.0), (3, 'Alice', 'Johnson', 'alice.johnson@jpg.com', '2021-09-30', 55000.0), (4, 'Bob', 'Brown', 'bob.brown@uio.com', '2020-01-20', 45000.0)]\n"
     ]
    }
   ],
   "source": [
    "print(\"Query Result: \", query_result)"
   ]
  },
  {
   "cell_type": "code",
   "execution_count": 33,
   "id": "435dbdca",
   "metadata": {},
   "outputs": [],
   "source": [
    "from langchain_community.agent_toolkits import SQLDatabaseToolkit"
   ]
  },
  {
   "cell_type": "code",
   "execution_count": 35,
   "id": "1ba89ccb",
   "metadata": {},
   "outputs": [],
   "source": [
    "toolkit = SQLDatabaseToolkit(db=db, llm=llm)"
   ]
  },
  {
   "cell_type": "code",
   "execution_count": 36,
   "id": "551a447c",
   "metadata": {},
   "outputs": [],
   "source": [
    "tools = toolkit.get_tools()"
   ]
  },
  {
   "cell_type": "code",
   "execution_count": 38,
   "id": "8cb17b62",
   "metadata": {},
   "outputs": [
    {
     "name": "stdout",
     "output_type": "stream",
     "text": [
      "sql_db_query :  Input to this tool is a detailed and correct SQL query, output is a result from the database. If the query is not correct, an error message will be returned. If an error is returned, rewrite the query, check the query, and try again. If you encounter an issue with Unknown column 'xxxx' in 'field list', use sql_db_schema to query the correct table fields.\n",
      "sql_db_schema :  Input to this tool is a comma-separated list of tables, output is the schema and sample rows for those tables. Be sure that the tables actually exist by calling sql_db_list_tables first! Example Input: table1, table2, table3\n",
      "sql_db_list_tables :  Input is an empty string, output is a comma-separated list of tables in the database.\n",
      "sql_db_query_checker :  Use this tool to double check if your query is correct before executing it. Always use this tool before executing a query with sql_db_query!\n"
     ]
    }
   ],
   "source": [
    "for tool in tools:\n",
    "    print(tool.name,\": \" ,tool.description)"
   ]
  },
  {
   "cell_type": "code",
   "execution_count": 39,
   "id": "4649787f",
   "metadata": {},
   "outputs": [],
   "source": [
    "list_tables_tool = next((tool for tool in tools if tool.name == \"sql_db_list_tables\"), None)"
   ]
  },
  {
   "cell_type": "code",
   "execution_count": 40,
   "id": "8ec2e3e4",
   "metadata": {},
   "outputs": [
    {
     "data": {
      "text/plain": [
       "ListSQLDatabaseTool(db=<langchain_community.utilities.sql_database.SQLDatabase object at 0x111c9e6e0>)"
      ]
     },
     "execution_count": 40,
     "metadata": {},
     "output_type": "execute_result"
    }
   ],
   "source": [
    "list_tables_tool"
   ]
  },
  {
   "cell_type": "code",
   "execution_count": 43,
   "id": "b671a550",
   "metadata": {},
   "outputs": [],
   "source": [
    "get_schema_tool = next((tool for tool in tools if tool.name == \"sql_db_schema\"), None)"
   ]
  },
  {
   "cell_type": "code",
   "execution_count": 44,
   "id": "d69714ce",
   "metadata": {},
   "outputs": [
    {
     "data": {
      "text/plain": [
       "InfoSQLDatabaseTool(description='Input to this tool is a comma-separated list of tables, output is the schema and sample rows for those tables. Be sure that the tables actually exist by calling sql_db_list_tables first! Example Input: table1, table2, table3', db=<langchain_community.utilities.sql_database.SQLDatabase object at 0x111c9e6e0>)"
      ]
     },
     "execution_count": 44,
     "metadata": {},
     "output_type": "execute_result"
    }
   ],
   "source": [
    "get_schema_tool"
   ]
  },
  {
   "cell_type": "code",
   "execution_count": 45,
   "id": "095e0f2c",
   "metadata": {},
   "outputs": [
    {
     "name": "stdout",
     "output_type": "stream",
     "text": [
      "customers, employees, orders\n"
     ]
    }
   ],
   "source": [
    "print(list_tables_tool.invoke(\"\"))"
   ]
  },
  {
   "cell_type": "code",
   "execution_count": 46,
   "id": "322b9c9a",
   "metadata": {},
   "outputs": [
    {
     "name": "stdout",
     "output_type": "stream",
     "text": [
      "\n",
      "CREATE TABLE employees (\n",
      "\temp_id INTEGER, \n",
      "\tfirst_name TEXT NOT NULL, \n",
      "\tlast_name TEXT NOT NULL, \n",
      "\temail TEXT NOT NULL, \n",
      "\thire_date TEXT NOT NULL, \n",
      "\tsalary REAL NOT NULL, \n",
      "\tPRIMARY KEY (emp_id), \n",
      "\tUNIQUE (email)\n",
      ")\n",
      "\n",
      "/*\n",
      "3 rows from employees table:\n",
      "emp_id\tfirst_name\tlast_name\temail\thire_date\tsalary\n",
      "1\tHello\tWorld\tworld.v@abc.com\t2023-06-01\t50000.0\n",
      "2\tArhun\tMeheta\tarhun.m@gmail.com\t2022-04-15\t60000.0\n",
      "3\tAlice\tJohnson\talice.johnson@jpg.com\t2021-09-30\t55000.0\n",
      "*/\n"
     ]
    }
   ],
   "source": [
    "print(get_schema_tool.invoke(\"employees\"))"
   ]
  },
  {
   "cell_type": "code",
   "execution_count": 47,
   "id": "1791ebe7",
   "metadata": {},
   "outputs": [
    {
     "name": "stdout",
     "output_type": "stream",
     "text": [
      "\n",
      "CREATE TABLE orders (\n",
      "\torder_id INTEGER, \n",
      "\tcustomer_id INTEGER, \n",
      "\torder_date TEXT NOT NULL, \n",
      "\tamount REAL NOT NULL, \n",
      "\tPRIMARY KEY (order_id), \n",
      "\tFOREIGN KEY(customer_id) REFERENCES customers (customer_id)\n",
      ")\n",
      "\n",
      "/*\n",
      "3 rows from orders table:\n",
      "order_id\tcustomer_id\torder_date\tamount\n",
      "1\t1\t2023-12-01\t250.75\n",
      "2\t2\t2023-11-20\t150.5\n",
      "3\t3\t2023-11-25\t300.0\n",
      "*/\n"
     ]
    }
   ],
   "source": [
    "print(get_schema_tool.invoke(\"orders\"))"
   ]
  },
  {
   "cell_type": "code",
   "execution_count": 48,
   "id": "675417e1",
   "metadata": {},
   "outputs": [],
   "source": [
    "from langchain_core.tools import tool\n",
    "\n",
    "@tool\n",
    "def db_query_tool(query: str) -> str:\n",
    "    \"\"\" \n",
    "        Execute a SQL query against the connected database and return the results as a string.\n",
    "        If the query is invalid or causes an error, return the error message.\n",
    "        In case of an error, the user should be informed that the query was unsuccessful and is advised to rewrite the query and try again.\n",
    "    \"\"\"\n",
    "\n",
    "    result = db.run_no_throw(query)\n",
    "\n",
    "    if not result:\n",
    "        return \"The query was unsuccessful. Please rewrite the query and try again.\"\n",
    "    return str(result)"
   ]
  },
  {
   "cell_type": "code",
   "execution_count": 50,
   "id": "3c20a497",
   "metadata": {},
   "outputs": [
    {
     "name": "stdout",
     "output_type": "stream",
     "text": [
      "[(1, 1, '2023-12-01', 250.75), (2, 2, '2023-11-20', 150.5), (3, 3, '2023-11-25', 300.0), (4, 4, '2023-12-02', 450.0)]\n"
     ]
    }
   ],
   "source": [
    "print(db_query_tool.invoke(\"SELECT * FROM orders;\"))"
   ]
  },
  {
   "cell_type": "code",
   "execution_count": 74,
   "id": "f1fb932d",
   "metadata": {},
   "outputs": [],
   "source": [
    "from typing import Annotated, Literal, Sequence, TypedDict\n",
    "from langchain import hub\n",
    "from langchain_core.messages import BaseMessage, HumanMessage\n",
    "from langchain_core.output_parsers import StrOutputParser\n",
    "from langchain_core.prompts import PromptTemplate\n",
    "from langchain_core.pydantic_v1 import BaseModel, Field\n",
    "from langgraph.graph.message import add_messages\n",
    "from langgraph.prebuilt import tools_condition, ToolNode\n",
    "from langchain_community.document_loaders import WebBaseLoader\n",
    "from langchain_text_splitters import RecursiveCharacterTextSplitter\n",
    "from langgraph.graph import START, END, StateGraph\n",
    "from typing import Any\n",
    "from langgraph.graph.message import AnyMessage\n",
    "from langchain_core.prompts import ChatPromptTemplate \n",
    "from langchain_core.messages import AIMessage\n",
    "from langchain_core.messages import ToolMessage\n",
    "from langchain_core.runnables import RunnableLambda, RunnableWithFallbacks"
   ]
  },
  {
   "cell_type": "code",
   "execution_count": 54,
   "id": "392d6695",
   "metadata": {},
   "outputs": [],
   "source": [
    "class SubmitFinalAnswer(BaseModel):\n",
    "    \"\"\" \n",
    "        Submit the final answer to the user based on the query results obtained from the database.\n",
    "    \"\"\"\n",
    "    final_answer: str = Field(..., description=\"The final answer to be provided to the user.\")"
   ]
  },
  {
   "cell_type": "code",
   "execution_count": 59,
   "id": "9c4e7722",
   "metadata": {},
   "outputs": [],
   "source": [
    "class State(TypedDict):\n",
    "    messages: Annotated[list[AnyMessage], add_messages]"
   ]
  },
  {
   "cell_type": "code",
   "execution_count": 61,
   "id": "9cadef47",
   "metadata": {},
   "outputs": [],
   "source": [
    "query_check_system = \"\"\" \n",
    "    You are an expert SQL Agent with very strong attention to detail.\n",
    "    Double check the SQLite query for common mistakes such as:\n",
    "    1. Using NOT IN with NULL values.\n",
    "    2. Using UNION when UNION ALL should have been used. \n",
    "    3. Using BETWEEN for exclusive ranges.\n",
    "    4. Data type mimatch in predicates.\n",
    "    5. Properly quoting identifiers. \n",
    "    6. Using the correct number of arguments for functions.\n",
    "    7. Casting to the correct data type. \n",
    "    8. Using the proper syntax and columns for JOINs.\n",
    "\n",
    "    If you find any of the above mistakes in the query, you must rewrite the query. If there are no mistakes, you must return the original query.\n",
    "\n",
    "    You will then call the appropriate tool to execute the query and get the results.\n",
    "\"\"\""
   ]
  },
  {
   "cell_type": "code",
   "execution_count": 62,
   "id": "afedc035",
   "metadata": {},
   "outputs": [],
   "source": [
    "query_check_prompt = ChatPromptTemplate.from_messages([(\"system\", query_check_system), (\"placeholder\", \"{messages}\")])"
   ]
  },
  {
   "cell_type": "code",
   "execution_count": 63,
   "id": "83cbaa0e",
   "metadata": {},
   "outputs": [],
   "source": [
    "query_check = query_check_prompt | llm.bind_tools([db_query_tool])"
   ]
  },
  {
   "cell_type": "code",
   "execution_count": 64,
   "id": "2ded1daf",
   "metadata": {},
   "outputs": [
    {
     "data": {
      "text/plain": [
       "AIMessage(content='', additional_kwargs={'tool_calls': [{'id': 'tmvbetjnp', 'function': {'arguments': '{\"query\":\"Select * from employees limit 5;\"}', 'name': 'db_query_tool'}, 'type': 'function'}]}, response_metadata={'token_usage': {'completion_tokens': 21, 'prompt_tokens': 495, 'total_tokens': 516, 'completion_time': 0.059734867, 'prompt_time': 0.040737423, 'queue_time': 0.212055552, 'total_time': 0.10047229}, 'model_name': 'llama-3.3-70b-versatile', 'system_fingerprint': 'fp_155ab82e98', 'service_tier': 'on_demand', 'finish_reason': 'tool_calls', 'logprobs': None}, id='run--5dacc699-891e-47cd-b898-a0de8840bc0a-0', tool_calls=[{'name': 'db_query_tool', 'args': {'query': 'Select * from employees limit 5;'}, 'id': 'tmvbetjnp', 'type': 'tool_call'}], usage_metadata={'input_tokens': 495, 'output_tokens': 21, 'total_tokens': 516})"
      ]
     },
     "execution_count": 64,
     "metadata": {},
     "output_type": "execute_result"
    }
   ],
   "source": [
    "query_check.invoke({\"messages\": [(\"user\", \"Select from employees limit 5;\")]})"
   ]
  },
  {
   "cell_type": "code",
   "execution_count": 66,
   "id": "98ff575a",
   "metadata": {},
   "outputs": [],
   "source": [
    "query_gen_system = \"\"\" \n",
    "    You are an expert SQL Agent with very strong attention to detail.\n",
    "    Given an input question, output a syntactically correct SQLite query to answer the question. Then look at the results of the query and provide a final answer to the user based on the results.\n",
    "    DO NOT CALL ANY OTHER TOOL BESIDES SubmitFinalAnswer to submit the final answer to the user.\n",
    "\n",
    "    When generating the SQL query, ensure that:\n",
    "    1. Output the SQL Query such that it answers the input question accurately without a tool call and without any mistakes.\n",
    "    2. Unless the user specifies a specific number of examples they wish to obtain, always limit your query to at most 5 results.\n",
    "    3. You can order the results by a relevant column to return the most interesting examples in the database.\n",
    "    3. Never query for all the columns from a specific table, only ask for the relevant columns given the question.\n",
    "\n",
    "    If you get an error while executing a query, rewrite the query and try again.\n",
    "\n",
    "    If you get an empty result set, you should try to rewrite the query to get a non-empty result set.\n",
    "    NEVER make stuff up if you don't have enough information to answer the query... just say you don't have enough information.\n",
    "\n",
    "    If you have enough information to answer the input question, simply invoke the appropriate tool to submit the final answer to the user.\n",
    "\n",
    "    DO NOT make any DML statements (INSERT, UPDATE, DELETE, DROP etc.) to the database. Do not return any sql query except answer.\n",
    "\"\"\""
   ]
  },
  {
   "cell_type": "code",
   "execution_count": 67,
   "id": "48cd74a8",
   "metadata": {},
   "outputs": [],
   "source": [
    "query_gen_prompt = ChatPromptTemplate.from_messages([(\"system\", query_gen_system), (\"placeholder\", \"{messages}\")])"
   ]
  },
  {
   "cell_type": "code",
   "execution_count": 69,
   "id": "48ea6448",
   "metadata": {},
   "outputs": [],
   "source": [
    "query_gen = query_gen_prompt | llm.bind_tools([SubmitFinalAnswer])"
   ]
  },
  {
   "cell_type": "code",
   "execution_count": 71,
   "id": "79165d55",
   "metadata": {},
   "outputs": [],
   "source": [
    "def first_tool_call(state: State) -> dict:\n",
    "    return {\"messages\": [AIMessage(content=\"\", tool_calls=[{\"name\": \"sql_db_list_tables\", \"args\": {}, \"id\": \"tool_call_1\"}])]}"
   ]
  },
  {
   "cell_type": "code",
   "execution_count": 73,
   "id": "7fc36825",
   "metadata": {},
   "outputs": [],
   "source": [
    "def handle_tool_error(state: State) -> dict:\n",
    "    error = state.get(\"error\")\n",
    "    tool_calls = state[\"messages\"][-1].tool_calls\n",
    "\n",
    "    return {\n",
    "        \"messages\": [\n",
    "            ToolMessage(content=f\"Error: {repr(error)} while executing tool calls: {tool_calls}. Please rewrite the query and try again.\", tool_call_id=tc[\"id\"],)\n",
    "            for tc in tool_calls\n",
    "        ]\n",
    "    }"
   ]
  },
  {
   "cell_type": "code",
   "execution_count": 77,
   "id": "ffa3368b",
   "metadata": {},
   "outputs": [],
   "source": [
    "def create_tool_node_with_fallback(tools: list) -> RunnableWithFallbacks[Any, dict]:\n",
    "    return ToolNode(tools).with_fallbacks([RunnableLambda(handle_tool_error)], exception_key = \"error\")"
   ]
  },
  {
   "cell_type": "code",
   "execution_count": 78,
   "id": "d9341ddd",
   "metadata": {},
   "outputs": [],
   "source": [
    "def query_gen_node(state: State):\n",
    "    message = query_gen.invoke(state)\n",
    "\n",
    "    # Sometimes, the LLM will hallucinate and call the wrong tool. We need to catch this and return an error message.\n",
    "    tool_messages = []\n",
    "    if message.tool_calls:\n",
    "        for tc in message.tool_calls:\n",
    "            if tc[\"name\"] != \"SubmitFinalAnswer\":\n",
    "                tool_messages.append(\n",
    "                    ToolMessage(\n",
    "                        content=f\"Error: The wrong tool was called: {tc['name']}. Please fix your mistakes. Remember to only call SubmitFinalAnswer to submit the final answer. Generated queries should be outputted WITHOUT a tool call.\",\n",
    "                        tool_call_id=tc[\"id\"],\n",
    "                    )\n",
    "                )\n",
    "    else:\n",
    "        tool_messages = []\n",
    "    return {\"messages\": [message] + tool_messages}"
   ]
  },
  {
   "cell_type": "code",
   "execution_count": 79,
   "id": "4c3eaea4",
   "metadata": {},
   "outputs": [],
   "source": [
    "def should_continue(state: State) -> Literal[END, \"correct_query\", \"query_gen\"]:\n",
    "    messages = state[\"messages\"]\n",
    "    last_message = messages[-1]\n",
    "    if getattr(last_message, \"tool_calls\", None):\n",
    "        return END\n",
    "    if last_message.content.startswith(\"Error:\"):\n",
    "        return \"query_gen\"\n",
    "    else:\n",
    "        return \"correct_query\""
   ]
  },
  {
   "cell_type": "code",
   "execution_count": 80,
   "id": "e19aa81c",
   "metadata": {},
   "outputs": [],
   "source": [
    "def model_check_query(state: State) -> dict[str, list[AIMessage]]:\n",
    "    \"\"\"\n",
    "    Use this tool to double-check if your query is correct before executing it.\n",
    "    \"\"\"\n",
    "    return {\"messages\": [query_check.invoke({\"messages\": [state[\"messages\"][-1]]})]}"
   ]
  },
  {
   "cell_type": "code",
   "execution_count": 81,
   "id": "031c7e6e",
   "metadata": {},
   "outputs": [],
   "source": [
    "workflow = StateGraph(State)"
   ]
  },
  {
   "cell_type": "code",
   "execution_count": 82,
   "id": "fb5069e5",
   "metadata": {},
   "outputs": [
    {
     "data": {
      "text/plain": [
       "<langgraph.graph.state.StateGraph at 0x112719870>"
      ]
     },
     "execution_count": 82,
     "metadata": {},
     "output_type": "execute_result"
    }
   ],
   "source": [
    "workflow.add_node(\"first_tool_call\",first_tool_call)\n",
    "workflow.add_node(\"list_tables_tool\", create_tool_node_with_fallback([list_tables_tool]))\n",
    "workflow.add_node(\"get_schema_tool\", create_tool_node_with_fallback([get_schema_tool]))\n",
    "model_get_schema = llm.bind_tools([get_schema_tool])\n",
    "workflow.add_node(\"model_get_schema\",lambda state: {\"messages\": [model_get_schema.invoke(state[\"messages\"])],},)\n",
    "workflow.add_node(\"query_gen\", query_gen_node)\n",
    "workflow.add_node(\"correct_query\", model_check_query)\n",
    "workflow.add_node(\"execute_query\", create_tool_node_with_fallback([db_query_tool]))"
   ]
  },
  {
   "cell_type": "code",
   "execution_count": 83,
   "id": "21490d96",
   "metadata": {},
   "outputs": [
    {
     "data": {
      "text/plain": [
       "<langgraph.graph.state.StateGraph at 0x112719870>"
      ]
     },
     "execution_count": 83,
     "metadata": {},
     "output_type": "execute_result"
    }
   ],
   "source": [
    "workflow.add_edge(START, \"first_tool_call\")\n",
    "workflow.add_edge(\"first_tool_call\", \"list_tables_tool\")\n",
    "workflow.add_edge(\"list_tables_tool\", \"model_get_schema\")\n",
    "workflow.add_edge(\"model_get_schema\", \"get_schema_tool\")\n",
    "workflow.add_edge(\"get_schema_tool\", \"query_gen\")\n",
    "workflow.add_conditional_edges(\"query_gen\",should_continue,)\n",
    "workflow.add_edge(\"correct_query\", \"execute_query\")\n",
    "workflow.add_edge(\"execute_query\", \"query_gen\")"
   ]
  },
  {
   "cell_type": "code",
   "execution_count": 84,
   "id": "f230bcea",
   "metadata": {},
   "outputs": [],
   "source": [
    "app = workflow.compile()"
   ]
  },
  {
   "cell_type": "code",
   "execution_count": 85,
   "id": "f8d54957",
   "metadata": {},
   "outputs": [
    {
     "data": {
      "image/png": "[encoded data removed]",
      "text/plain": [
       "<IPython.core.display.Image object>"
      ]
     },
     "metadata": {},
     "output_type": "display_data"
    }
   ],
   "source": [
    "from IPython.display import Image, display\n",
    "from langchain_core.runnables.graph import MermaidDrawMethod\n",
    "\n",
    "display(\n",
    "    Image(\n",
    "        app.get_graph().draw_mermaid_png(\n",
    "            draw_method=MermaidDrawMethod.API,\n",
    "        )\n",
    "    )\n",
    ")"
   ]
  },
  {
   "cell_type": "code",
   "execution_count": 88,
   "id": "53ce49ea",
   "metadata": {},
   "outputs": [],
   "source": [
    "query={\"messages\": [(\"user\", \"Tell me name of the employee with highest salary?\")]}"
   ]
  },
  {
   "cell_type": "code",
   "execution_count": 89,
   "id": "bcc8dca4",
   "metadata": {},
   "outputs": [],
   "source": [
    "response=app.invoke(query)"
   ]
  },
  {
   "cell_type": "code",
   "execution_count": 90,
   "id": "69d46473",
   "metadata": {},
   "outputs": [
    {
     "data": {
      "text/plain": [
       "'Arhun Meheta'"
      ]
     },
     "execution_count": 90,
     "metadata": {},
     "output_type": "execute_result"
    }
   ],
   "source": [
    "response[\"messages\"][-1].tool_calls[0][\"args\"][\"final_answer\"]"
   ]
  },
  {
   "cell_type": "code",
   "execution_count": null,
   "id": "9c4a0b05",
   "metadata": {},
   "outputs": [],
   "source": []
  },
  {
   "cell_type": "code",
   "execution_count": null,
   "id": "6c4280ce",
   "metadata": {},
   "outputs": [],
   "source": []
  },
  {
   "cell_type": "code",
   "execution_count": null,
   "id": "b068bf9b",
   "metadata": {},
   "outputs": [],
   "source": []
  }
 ],
 "metadata": {
  "kernelspec": {
   "display_name": "sqlagentlang",
   "language": "python",
   "name": "python3"
  },
  "language_info": {
   "codemirror_mode": {
    "name": "ipython",
    "version": 3
   },
   "file_extension": ".py",
   "mimetype": "text/x-python",
   "name": "python",
   "nbconvert_exporter": "python",
   "pygments_lexer": "ipython3",
   "version": "3.10.18"
  }
 },
 "nbformat": 4,
 "nbformat_minor": 5
}
